{
  "nbformat": 4,
  "nbformat_minor": 0,
  "metadata": {
    "colab": {
      "provenance": [],
      "authorship_tag": "ABX9TyOQFOrm/I6crrcLykLFtBM8",
      "include_colab_link": true
    },
    "kernelspec": {
      "name": "python3",
      "display_name": "Python 3"
    },
    "language_info": {
      "name": "python"
    }
  },
  "cells": [
    {
      "cell_type": "markdown",
      "metadata": {
        "id": "view-in-github",
        "colab_type": "text"
      },
      "source": [
        "<a href=\"https://colab.research.google.com/github/Shivani8780/Matrimonial-Profile/blob/main/matching_algo.ipynb\" target=\"_parent\"><img src=\"https://colab.research.google.com/assets/colab-badge.svg\" alt=\"Open In Colab\"/></a>"
      ]
    },
    {
      "cell_type": "code",
      "source": [
        "import pandas as pd\n",
        "import re\n",
        "\n",
        "# Load the dataset\n",
        "file_path = 'data_for_matching.csv'\n",
        "df = pd.read_csv(file_path)\n",
        "\n",
        "# Strip leading and trailing spaces from column names for easier handling\n",
        "df.columns = [col.strip() for col in df.columns]\n",
        "\n",
        "# Display the cleaned column names and the first few rows to confirm changes\n",
        "print(df.columns)\n",
        "print(df.head())\n",
        "\n",
        "def clean_height(height):\n",
        "    if pd.isnull(height):\n",
        "        return None\n",
        "    height = str(height).lower()\n",
        "    if 'feet' in height or 'ft' in height:\n",
        "        feet = re.findall(r'(\\d+)\\s*feet', height)\n",
        "        inches = re.findall(r'(\\d+)\\s*inch', height)\n",
        "        feet = int(feet[0]) if feet else 0\n",
        "        inches = int(inches[0]) if inches else 0\n",
        "        return feet * 12 + inches\n",
        "    elif '\\'' in height:\n",
        "        parts = height.split('\\'')\n",
        "        feet = int(parts[0]) if parts[0].isdigit() else 0\n",
        "        inches = int(parts[1].replace('\"', '')) if len(parts) > 1 and parts[1].replace('\"', '').isdigit() else 0\n",
        "        return feet * 12 + inches\n",
        "    else:\n",
        "        try:\n",
        "            return float(height)\n",
        "        except ValueError:\n",
        "            return None\n",
        "\n",
        "# Apply the height cleaning function\n",
        "df['Height (In Feet)'] = df['Height (In Feet)'].apply(clean_height)\n",
        "\n",
        "\n",
        "def clean_weight(weight):\n",
        "    if pd.isnull(weight):\n",
        "        return None\n",
        "    # Remove non-numeric characters except for the first decimal point\n",
        "    weight = re.sub(r'[^\\d.]', '', str(weight))\n",
        "    # Remove any extra decimal points\n",
        "    weight = re.sub(r'\\.+', '.', weight)\n",
        "    # Ensure the string ends correctly\n",
        "    if weight.endswith('.'):\n",
        "        weight = weight[:-1]\n",
        "    try:\n",
        "        return float(weight) if weight else None\n",
        "    except ValueError:\n",
        "        return None\n",
        "\n",
        "# Apply the weight cleaning function\n",
        "df['Weight (In KG)'] = df['Weight (In KG)'].apply(clean_weight)\n",
        "\n",
        "# Clean text fields\n",
        "df = df.applymap(lambda x: x.strip() if isinstance(x, str) else x)\n",
        "\n",
        "# Save the cleaned data\n",
        "df.to_csv('data_for_matching.csv', index=False)\n",
        "\n",
        "print(\"Data cleaning complete. Cleaned data saved to 'data_for_matching.csv'.\")"
      ],
      "metadata": {
        "id": "4RtEKbtLbam2",
        "outputId": "9a510fc6-9365-42d9-9dc7-c5f70c901769",
        "colab": {
          "base_uri": "https://localhost:8080/"
        }
      },
      "execution_count": 17,
      "outputs": [
        {
          "output_type": "stream",
          "name": "stdout",
          "text": [
            "Index(['Name Of Candidate', 'Candidate Gender',\n",
            "       'Who is doing this Registration ?', 'CITY_COUNTRY',\n",
            "       'Candidate Current Country', 'Visa or Residence Status Of Candidate',\n",
            "       'Date Of Birth', 'Time Of Birth', 'Height (In Feet)', 'Weight (In KG)',\n",
            "       'Education Details', 'Job/Business/Occupation Category',\n",
            "       'Details on Job / Business / Occupation',\n",
            "       'Mention your Salary or Income (optional)', 'Marriage Status',\n",
            "       'Shani / Managal', 'Gotra',\n",
            "       'Candidate has Any Mental / Physical Disability or Minor Problem',\n",
            "       'Choice Of Education', 'Choice Of Location',\n",
            "       'Choice Of Age Gap/ Difference in Year', 'Any Other Choice'],\n",
            "      dtype='object')\n",
            "  Name Of Candidate Candidate Gender Who is doing this Registration ?  \\\n",
            "0            Bhavik             Male                             Self   \n",
            "1         Test test             Male                             Self   \n",
            "2       Jigar Mehta             Male                             Self   \n",
            "3     Maulik S Jani             Male                             Self   \n",
            "4        Arpan Vyas             Male                             Self   \n",
            "\n",
            "                 CITY_COUNTRY Candidate Current Country  \\\n",
            "0                    Vadodara                     India   \n",
            "1                    Vadodara                     India   \n",
            "2                   Ahmedabad                     India   \n",
            "3                   Ahmedabad                     India   \n",
            "4  United arab emirates Dubai                     Dubai   \n",
            "\n",
            "  Visa or Residence Status Of Candidate Date Of Birth Time Of Birth  \\\n",
            "0                        Indian Citizen    11.09.1989    4:45:00 AM   \n",
            "1                        Indian Citizen        356566   10:12:00 AM   \n",
            "2                        Indian Citizen      21101977   12:45:00 PM   \n",
            "3                        Indian Citizen    16-07-1991   10:47:00 AM   \n",
            "4                     NRI - Work Permit    17-12-1991    5:10:00 AM   \n",
            "\n",
            "   Height (In Feet)  Weight (In KG)  ...  \\\n",
            "0              5.06            80.0  ...   \n",
            "1              5.06            60.0  ...   \n",
            "2               NaN            75.0  ...   \n",
            "3               NaN            70.0  ...   \n",
            "4              5.11            80.0  ...   \n",
            "\n",
            "              Details on Job / Business / Occupation  \\\n",
            "0                                                Job   \n",
            "1                                                 Ok   \n",
            "2                                                Job   \n",
            "3                           Clerck At RTO Department   \n",
            "4  SALES MANAGER IN DIAMOND JEWELLERY SHOWROOM DUBAI   \n",
            "\n",
            "  Mention your Salary or Income (optional)            Marriage Status  \\\n",
            "0                                      NaN  Never Married (Unmarried)   \n",
            "1                                     3455  Never Married (Unmarried)   \n",
            "2                         16 lac per annum  Never Married (Unmarried)   \n",
            "3                                      NaN  Never Married (Unmarried)   \n",
            "4                           1Lac Per Month  Never Married (Unmarried)   \n",
            "\n",
            "  Shani / Managal      Gotra  \\\n",
            "0      Don't Know     Kasysp   \n",
            "1   Yes (Nirdosh)         Ok   \n",
            "2   Yes (Nirdosh)  Laukansya   \n",
            "3              No   Kushkush   \n",
            "4              No  Vatsyanas   \n",
            "\n",
            "  Candidate has Any Mental / Physical Disability or Minor Problem  \\\n",
            "0                                                 No                \n",
            "1                                                 No                \n",
            "2                                                 No                \n",
            "3                                                 No                \n",
            "4                                                 NO                \n",
            "\n",
            "                                 Choice Of Education Choice Of Location  \\\n",
            "0                                                Any                Any   \n",
            "1                                                 Ok                 Ok   \n",
            "2                                           Graduate        All gujarat   \n",
            "3                                       Graduate any        Gujarat any   \n",
            "4  Everyone who dont have problem with my educati...                Any   \n",
            "\n",
            "      Choice Of Age Gap/ Difference in Year               Any Other Choice  \n",
            "0                                     30.34                             No  \n",
            "1                                        Ok                             Ok  \n",
            "2                                  42 to 45                             No  \n",
            "3                                     26-32  Less Practical More Emotional  \n",
            "4  2 -3 yeaes younger or same age preferred                       Notrhing  \n",
            "\n",
            "[5 rows x 22 columns]\n",
            "Data cleaning complete. Cleaned data saved to 'data_for_matching.csv'.\n"
          ]
        },
        {
          "output_type": "stream",
          "name": "stderr",
          "text": [
            "<ipython-input-17-47827d6a3705>:59: FutureWarning: DataFrame.applymap has been deprecated. Use DataFrame.map instead.\n",
            "  df = df.applymap(lambda x: x.strip() if isinstance(x, str) else x)\n"
          ]
        }
      ]
    },
    {
      "cell_type": "code",
      "source": [
        "# Function to clean date formats\n",
        "def clean_date(date):\n",
        "    try:\n",
        "        return pd.to_datetime(date, errors='coerce').strftime('%d-%m-%Y')\n",
        "    except:\n",
        "        return None\n",
        "\n",
        "# Apply the date cleaning function\n",
        "df['Date Of Birth'] = df['Date Of Birth'].apply(clean_date)\n",
        "# Clean text fields\n",
        "df = df.applymap(lambda x: x.strip() if isinstance(x, str) else x)\n",
        "\n",
        "df['Candidate has Any Mental / Physical Disability or Minor Problem'] = df['Candidate has Any Mental / Physical Disability or Minor Problem'].str.lower().str.strip()"
      ],
      "metadata": {
        "id": "YsGvruzWFaPS",
        "outputId": "995ebb58-d58d-437f-966a-4dc34c019f2c",
        "colab": {
          "base_uri": "https://localhost:8080/"
        }
      },
      "execution_count": 19,
      "outputs": [
        {
          "output_type": "stream",
          "name": "stderr",
          "text": [
            "<ipython-input-19-1e91771a864e>:4: UserWarning: Parsing dates in %d-%m-%Y format when dayfirst=False (the default) was specified. Pass `dayfirst=True` or specify a format to silence this warning.\n",
            "  return pd.to_datetime(date, errors='coerce').strftime('%d-%m-%Y')\n",
            "<ipython-input-19-1e91771a864e>:11: FutureWarning: DataFrame.applymap has been deprecated. Use DataFrame.map instead.\n",
            "  df = df.applymap(lambda x: x.strip() if isinstance(x, str) else x)\n"
          ]
        }
      ]
    },
    {
      "cell_type": "code",
      "source": [
        "df['Choice Of Education'] = df['Choice Of Education'].str.lower().str.strip()"
      ],
      "metadata": {
        "id": "o8zSWLczG0OY"
      },
      "execution_count": 20,
      "outputs": []
    },
    {
      "cell_type": "code",
      "source": [
        "def clean_salary(salary):\n",
        "    if pd.isnull(salary):\n",
        "        return None\n",
        "    salary = str(salary).lower()\n",
        "    # Extract numeric values\n",
        "    numbers = re.findall(r'\\d+', salary)\n",
        "    if 'lac' in salary:\n",
        "        return int(numbers[0]) * 100000 if numbers else None\n",
        "    elif 'k' in salary:\n",
        "        return int(numbers[0]) * 1000 if numbers else None\n",
        "    elif 'cad' in salary:\n",
        "        return int(numbers[0]) * 60 if numbers else None  # Example conversion rate\n",
        "    else:\n",
        "        return int(numbers[0]) if numbers else None\n",
        "\n",
        "df['Mention your Salary or Income (optional)'] = df['Mention your Salary or Income (optional)'].apply(clean_salary)"
      ],
      "metadata": {
        "id": "AAWFwZXiHGzY"
      },
      "execution_count": 21,
      "outputs": []
    },
    {
      "cell_type": "code",
      "source": [
        "df['Marriage Status'] = df['Marriage Status'].str.lower().str.strip()\n",
        "df['Education Details'] = df['Education Details'].str.lower().str.strip()"
      ],
      "metadata": {
        "id": "az41pOYnHOcp"
      },
      "execution_count": 23,
      "outputs": []
    },
    {
      "cell_type": "code",
      "source": [
        "df.fillna('Unknown', inplace=True)"
      ],
      "metadata": {
        "id": "lr_ZAV3ZHYZY",
        "outputId": "a9293c59-eb67-4adc-c0c2-370df1410704",
        "colab": {
          "base_uri": "https://localhost:8080/"
        }
      },
      "execution_count": 24,
      "outputs": [
        {
          "output_type": "stream",
          "name": "stderr",
          "text": [
            "<ipython-input-24-876f1fdd0c9d>:1: FutureWarning: Setting an item of incompatible dtype is deprecated and will raise an error in a future version of pandas. Value 'Unknown' has dtype incompatible with float64, please explicitly cast to a compatible dtype first.\n",
            "  df.fillna('Unknown', inplace=True)\n"
          ]
        }
      ]
    },
    {
      "cell_type": "code",
      "source": [
        "df['Candidate has Any Mental / Physical Disability or Minor Problem'] = df['Candidate has Any Mental / Physical Disability or Minor Problem'].str.lower().str.strip()\n",
        "df['Choice Of Education'] = df['Choice Of Education'].str.lower().str.strip()\n",
        "df['Marriage Status'] = df['Marriage Status'].str.lower().str.strip()\n",
        "df['Shani / Managal'] = df['Shani / Managal'].str.lower().str.strip()"
      ],
      "metadata": {
        "id": "CtlMu-vCHf9K"
      },
      "execution_count": 25,
      "outputs": []
    },
    {
      "cell_type": "code",
      "source": [
        "df['Gotra'] = df['Gotra'].str.lower().str.strip()\n"
      ],
      "metadata": {
        "id": "pqJPF9gYIaor"
      },
      "execution_count": 25,
      "outputs": []
    }
  ]
}